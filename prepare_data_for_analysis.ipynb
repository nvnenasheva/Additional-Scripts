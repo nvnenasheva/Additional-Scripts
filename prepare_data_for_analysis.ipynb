{
 "cells": [
  {
   "cell_type": "code",
   "execution_count": 67,
   "id": "cf44d62f-a4c3-4160-9f7e-5d1dc8bd0c23",
   "metadata": {},
   "outputs": [],
   "source": [
    "import pandas as pd\n",
    "import numpy as np\n",
    "import matplotlib.pyplot as plt\n",
    "import seaborn as sns\n",
    "from scipy.stats import zscore\n",
    "from scipy.stats import skew, kurtosis\n",
    "\n",
    "import os\n",
    "import zipfile\n",
    "import shutil"
   ]
  },
  {
   "cell_type": "code",
   "execution_count": 1,
   "id": "572f38e4-da22-45e7-a960-17b8fb2e4cc7",
   "metadata": {},
   "outputs": [
    {
     "name": "stdout",
     "output_type": "stream",
     "text": [
      "Collecting kaggle\n",
      "  Downloading kaggle-1.6.17.tar.gz (82 kB)\n",
      "  Preparing metadata (setup.py) ... \u001b[?25ldone\n",
      "\u001b[?25hRequirement already satisfied: six>=1.10 in /jupyterlab/lib/python3.12/site-packages (from kaggle) (1.17.0)\n",
      "Requirement already satisfied: certifi>=2023.7.22 in /jupyterlab/lib/python3.12/site-packages (from kaggle) (2024.12.14)\n",
      "Requirement already satisfied: python-dateutil in /jupyterlab/lib/python3.12/site-packages (from kaggle) (2.9.0.post0)\n",
      "Requirement already satisfied: requests in /jupyterlab/lib/python3.12/site-packages (from kaggle) (2.32.3)\n",
      "Requirement already satisfied: tqdm in /jupyterlab/lib/python3.12/site-packages (from kaggle) (4.67.1)\n",
      "Collecting python-slugify (from kaggle)\n",
      "  Downloading python_slugify-8.0.4-py2.py3-none-any.whl.metadata (8.5 kB)\n",
      "Requirement already satisfied: urllib3 in /jupyterlab/lib/python3.12/site-packages (from kaggle) (2.3.0)\n",
      "Requirement already satisfied: bleach in /jupyterlab/lib/python3.12/site-packages (from kaggle) (6.2.0)\n",
      "Requirement already satisfied: webencodings in /jupyterlab/lib/python3.12/site-packages (from bleach->kaggle) (0.5.1)\n",
      "Collecting text-unidecode>=1.3 (from python-slugify->kaggle)\n",
      "  Downloading text_unidecode-1.3-py2.py3-none-any.whl.metadata (2.4 kB)\n",
      "Requirement already satisfied: charset_normalizer<4,>=2 in /jupyterlab/lib/python3.12/site-packages (from requests->kaggle) (3.4.1)\n",
      "Requirement already satisfied: idna<4,>=2.5 in /jupyterlab/lib/python3.12/site-packages (from requests->kaggle) (3.10)\n",
      "Downloading python_slugify-8.0.4-py2.py3-none-any.whl (10 kB)\n",
      "Downloading text_unidecode-1.3-py2.py3-none-any.whl (78 kB)\n",
      "Building wheels for collected packages: kaggle\n",
      "  Building wheel for kaggle (setup.py) ... \u001b[?25ldone\n",
      "\u001b[?25h  Created wheel for kaggle: filename=kaggle-1.6.17-py3-none-any.whl size=105839 sha256=753b82cf107f88ca70ab83e46ab8a21ba66170c4202dab94f34781860f183b1f\n",
      "  Stored in directory: /home/jovyan/.cache/pip/wheels/46/d2/26/84d0a1acdb9c6baccf7d28cf06962ec80529fe1ad938489983\n",
      "Successfully built kaggle\n",
      "Installing collected packages: text-unidecode, python-slugify, kaggle\n",
      "Successfully installed kaggle-1.6.17 python-slugify-8.0.4 text-unidecode-1.3\n"
     ]
    }
   ],
   "source": [
    "# set up everything to download data from Kaggle\n",
    "!pip install kaggle\n",
    "\n",
    "os.makedirs(os.path.expanduser('~/.kaggle'), exist_ok=True) # create the .kaggle directory if it doesn't exist\n",
    "shutil.move('kaggle.json', os.path.expanduser('~/.kaggle/kaggle.json')) # move kaggle.json to the .kaggle directory\n",
    "os.chmod(os.path.expanduser('~/.kaggle/kaggle.json'), 0o600) # set correct permissions for the file"
   ]
  },
  {
   "cell_type": "code",
   "execution_count": 7,
   "id": "e85eb574-4939-453a-b9a5-b38195d88047",
   "metadata": {},
   "outputs": [
    {
     "name": "stdout",
     "output_type": "stream",
     "text": [
      "Dataset URL: https://www.kaggle.com/datasets/bharatnatrayn/movies-dataset-for-feature-extracion-prediction\n",
      "License(s): CC0-1.0\n",
      "Downloading movies-dataset-for-feature-extracion-prediction.zip to /home/jovyan\n",
      " 95%|████████████████████████████████████▏ | 1.00M/1.05M [00:00<00:00, 2.02MB/s]\n",
      "100%|██████████████████████████████████████| 1.05M/1.05M [00:00<00:00, 2.10MB/s]\n"
     ]
    },
    {
     "data": {
      "text/plain": [
       "['movies.csv']"
      ]
     },
     "execution_count": 7,
     "metadata": {},
     "output_type": "execute_result"
    }
   ],
   "source": [
    "# Download the Movies Dataset\n",
    "!kaggle datasets download -d bharatnatrayn/movies-dataset-for-feature-extracion-prediction\n",
    "\n",
    "# Unzip the dataset\n",
    "with zipfile.ZipFile('movies-dataset-for-feature-extracion-prediction.zip', 'r') as zip_ref:\n",
    "    zip_ref.extractall('movies_dataset')\n",
    "\n",
    "# Check the extracted files\n",
    "os.listdir('movies_dataset')"
   ]
  },
  {
   "cell_type": "code",
   "execution_count": 52,
   "id": "cf5f0e4c-c054-4edb-a01a-2055e9341dfb",
   "metadata": {},
   "outputs": [
    {
     "data": {
      "text/html": [
       "<div>\n",
       "<style scoped>\n",
       "    .dataframe tbody tr th:only-of-type {\n",
       "        vertical-align: middle;\n",
       "    }\n",
       "\n",
       "    .dataframe tbody tr th {\n",
       "        vertical-align: top;\n",
       "    }\n",
       "\n",
       "    .dataframe thead th {\n",
       "        text-align: right;\n",
       "    }\n",
       "</style>\n",
       "<table border=\"1\" class=\"dataframe\">\n",
       "  <thead>\n",
       "    <tr style=\"text-align: right;\">\n",
       "      <th></th>\n",
       "      <th>MOVIES</th>\n",
       "      <th>YEAR</th>\n",
       "      <th>GENRE</th>\n",
       "      <th>RATING</th>\n",
       "      <th>ONE-LINE</th>\n",
       "      <th>STARS</th>\n",
       "      <th>VOTES</th>\n",
       "      <th>RunTime</th>\n",
       "      <th>Gross</th>\n",
       "    </tr>\n",
       "  </thead>\n",
       "  <tbody>\n",
       "    <tr>\n",
       "      <th>0</th>\n",
       "      <td>Blood Red Sky</td>\n",
       "      <td>(2021)</td>\n",
       "      <td>\\nAction, Horror, Thriller</td>\n",
       "      <td>6.1</td>\n",
       "      <td>\\nA woman with a mysterious illness is forced ...</td>\n",
       "      <td>\\n    Director:\\nPeter Thorwarth\\n| \\n    Star...</td>\n",
       "      <td>21,062</td>\n",
       "      <td>121.0</td>\n",
       "      <td>NaN</td>\n",
       "    </tr>\n",
       "    <tr>\n",
       "      <th>1</th>\n",
       "      <td>Masters of the Universe: Revelation</td>\n",
       "      <td>(2021– )</td>\n",
       "      <td>\\nAnimation, Action, Adventure</td>\n",
       "      <td>5.0</td>\n",
       "      <td>\\nThe war for Eternia begins again in what may...</td>\n",
       "      <td>\\n            \\n    Stars:\\nChris Wood, \\nSara...</td>\n",
       "      <td>17,870</td>\n",
       "      <td>25.0</td>\n",
       "      <td>NaN</td>\n",
       "    </tr>\n",
       "    <tr>\n",
       "      <th>2</th>\n",
       "      <td>The Walking Dead</td>\n",
       "      <td>(2010–2022)</td>\n",
       "      <td>\\nDrama, Horror, Thriller</td>\n",
       "      <td>8.2</td>\n",
       "      <td>\\nSheriff Deputy Rick Grimes wakes up from a c...</td>\n",
       "      <td>\\n            \\n    Stars:\\nAndrew Lincoln, \\n...</td>\n",
       "      <td>885,805</td>\n",
       "      <td>44.0</td>\n",
       "      <td>NaN</td>\n",
       "    </tr>\n",
       "    <tr>\n",
       "      <th>3</th>\n",
       "      <td>Rick and Morty</td>\n",
       "      <td>(2013– )</td>\n",
       "      <td>\\nAnimation, Adventure, Comedy</td>\n",
       "      <td>9.2</td>\n",
       "      <td>\\nAn animated series that follows the exploits...</td>\n",
       "      <td>\\n            \\n    Stars:\\nJustin Roiland, \\n...</td>\n",
       "      <td>414,849</td>\n",
       "      <td>23.0</td>\n",
       "      <td>NaN</td>\n",
       "    </tr>\n",
       "    <tr>\n",
       "      <th>4</th>\n",
       "      <td>Army of Thieves</td>\n",
       "      <td>(2021)</td>\n",
       "      <td>\\nAction, Crime, Horror</td>\n",
       "      <td>NaN</td>\n",
       "      <td>\\nA prequel, set before the events of Army of ...</td>\n",
       "      <td>\\n    Director:\\nMatthias Schweighöfer\\n| \\n  ...</td>\n",
       "      <td>NaN</td>\n",
       "      <td>NaN</td>\n",
       "      <td>NaN</td>\n",
       "    </tr>\n",
       "  </tbody>\n",
       "</table>\n",
       "</div>"
      ],
      "text/plain": [
       "                                MOVIES         YEAR  \\\n",
       "0                        Blood Red Sky       (2021)   \n",
       "1  Masters of the Universe: Revelation     (2021– )   \n",
       "2                     The Walking Dead  (2010–2022)   \n",
       "3                       Rick and Morty     (2013– )   \n",
       "4                      Army of Thieves       (2021)   \n",
       "\n",
       "                                        GENRE  RATING  \\\n",
       "0      \\nAction, Horror, Thriller                 6.1   \n",
       "1  \\nAnimation, Action, Adventure                 5.0   \n",
       "2       \\nDrama, Horror, Thriller                 8.2   \n",
       "3  \\nAnimation, Adventure, Comedy                 9.2   \n",
       "4         \\nAction, Crime, Horror                 NaN   \n",
       "\n",
       "                                            ONE-LINE  \\\n",
       "0  \\nA woman with a mysterious illness is forced ...   \n",
       "1  \\nThe war for Eternia begins again in what may...   \n",
       "2  \\nSheriff Deputy Rick Grimes wakes up from a c...   \n",
       "3  \\nAn animated series that follows the exploits...   \n",
       "4  \\nA prequel, set before the events of Army of ...   \n",
       "\n",
       "                                               STARS    VOTES  RunTime Gross  \n",
       "0  \\n    Director:\\nPeter Thorwarth\\n| \\n    Star...   21,062    121.0   NaN  \n",
       "1  \\n            \\n    Stars:\\nChris Wood, \\nSara...   17,870     25.0   NaN  \n",
       "2  \\n            \\n    Stars:\\nAndrew Lincoln, \\n...  885,805     44.0   NaN  \n",
       "3  \\n            \\n    Stars:\\nJustin Roiland, \\n...  414,849     23.0   NaN  \n",
       "4  \\n    Director:\\nMatthias Schweighöfer\\n| \\n  ...      NaN      NaN   NaN  "
      ]
     },
     "execution_count": 52,
     "metadata": {},
     "output_type": "execute_result"
    }
   ],
   "source": [
    "df = pd.read_csv('movies_dataset/movies.csv')\n",
    "df.head()"
   ]
  },
  {
   "cell_type": "markdown",
   "id": "ca51d8b8-d6ee-4127-9adf-2c3abf533bb6",
   "metadata": {},
   "source": [
    "# Data Cleaning\n",
    "## Handling missing data\n",
    "\n",
    "Identify Missing Data:\n",
    "- Use .isnull() or .isna() (in Python pandas) to check for missing values.\n",
    "- Metric: Percentage of missing values."
   ]
  },
  {
   "cell_type": "code",
   "execution_count": 53,
   "id": "1601e9aa-c0b9-4f78-b8cf-984cea1532b6",
   "metadata": {},
   "outputs": [
    {
     "name": "stdout",
     "output_type": "stream",
     "text": [
      "Size of the dataset: (9999, 9)\n",
      "     Column  Missing_Percentage\n",
      "0     Gross           95.399540\n",
      "1   RunTime           29.582958\n",
      "2    RATING           18.201820\n",
      "3     VOTES           18.201820\n",
      "4      YEAR            6.440644\n",
      "5     GENRE            0.800080\n",
      "6    MOVIES            0.000000\n",
      "7  ONE-LINE            0.000000\n",
      "8     STARS            0.000000\n"
     ]
    }
   ],
   "source": [
    "print('Size of the dataset:', df.shape)\n",
    "\n",
    "missing_percentages = (df.isnull().sum() / len(df)) * 100\n",
    "missing_data = pd.DataFrame({\n",
    "        'Column': missing_percentages.index,\n",
    "        'Missing_Percentage': missing_percentages.values\n",
    "    })\n",
    "missing_data = missing_data.sort_values(by='Missing_Percentage', ascending=False).reset_index(drop=True)\n",
    "print(missing_data)   "
   ]
  },
  {
   "cell_type": "markdown",
   "id": "d046e12e-6d43-41c9-856d-03aac9531c24",
   "metadata": {},
   "source": [
    "Options to Handle Missing Data:\n",
    "- Remove rows/columns with too many missing values.\n",
    "- Impute missing values:\n",
    "    - Mean/Median (for numerical data).\n",
    "    - Mode (for categorical data).\n",
    "    - Interpolation or advanced techniques (e.g., KNN imputation)."
   ]
  },
  {
   "cell_type": "code",
   "execution_count": 54,
   "id": "4b0e525e-215c-484f-9557-9de87aa2df71",
   "metadata": {},
   "outputs": [
    {
     "name": "stdout",
     "output_type": "stream",
     "text": [
      "\n",
      "Dropped columns with >20% missing values: ['Gross', 'RunTime']\n",
      "Filled missing values in numerical column 'RATING' with mean.\n",
      "Filled missing values in categorical column 'YEAR' with mode.\n",
      "Filled missing values in categorical column 'GENRE' with mode.\n",
      "Filled missing values in categorical column 'VOTES' with mode.\n"
     ]
    }
   ],
   "source": [
    "# Option 1: Drop columns with more than 20% missing values\n",
    "threshold = 20 \n",
    "columns_to_drop = missing_data[missing_data['Missing_Percentage'] > threshold]['Column']\n",
    "movies_df_cleaned = movies_df.drop(columns=columns_to_drop)\n",
    "print(f\"\\nDropped columns with >{threshold}% missing values: {columns_to_drop.tolist()}\")\n",
    "\n",
    "# Option 2: Impute missing values\n",
    "\n",
    "# For NUMERICAL columns, fill missing values with the column mean\n",
    "numerical_columns = movies_df_cleaned.select_dtypes(include=['float64', 'int64']).columns\n",
    "#print('Numerical columns: ', numerical_columns)\n",
    "\n",
    "for col in numerical_columns:\n",
    "    if movies_df_cleaned[col].isnull().sum() > 0:\n",
    "        movies_df_cleaned[col] = movies_df_cleaned[col].fillna(movies_df_cleaned[col].mean())\n",
    "        print(f\"Filled missing values in numerical column '{col}' with mean.\")\n",
    "\n",
    "# For CATEGORICAL columns, fill missing values with the column MODE\n",
    "categorical_columns = movies_df_cleaned.select_dtypes(include=['object']).columns\n",
    "#print('Categorical columns: ', categorical_columns)\n",
    "\n",
    "for col in categorical_columns:\n",
    "    if movies_df_cleaned[col].isnull().sum() > 0:\n",
    "        movies_df_cleaned[col] = movies_df_cleaned[col].fillna(movies_df_cleaned[col].mode()[0])\n",
    "        print(f\"Filled missing values in categorical column '{col}' with mode.\")"
   ]
  },
  {
   "cell_type": "code",
   "execution_count": 55,
   "id": "e64221f8-0b65-4a02-893f-615c19e9479d",
   "metadata": {},
   "outputs": [
    {
     "name": "stdout",
     "output_type": "stream",
     "text": [
      "\n",
      "Cleaned DataFrame:\n",
      "<class 'pandas.core.frame.DataFrame'>\n",
      "RangeIndex: 9999 entries, 0 to 9998\n",
      "Data columns (total 7 columns):\n",
      " #   Column    Non-Null Count  Dtype  \n",
      "---  ------    --------------  -----  \n",
      " 0   MOVIES    9999 non-null   object \n",
      " 1   YEAR      9999 non-null   object \n",
      " 2   GENRE     9999 non-null   object \n",
      " 3   RATING    9999 non-null   float64\n",
      " 4   ONE-LINE  9999 non-null   object \n",
      " 5   STARS     9999 non-null   object \n",
      " 6   VOTES     9999 non-null   object \n",
      "dtypes: float64(1), object(6)\n",
      "memory usage: 546.9+ KB\n",
      "None\n"
     ]
    }
   ],
   "source": [
    "# movies_df_cleaned.to_csv('cleaned_movies.csv', index=False) # save the cleaned DataFrame (optional)\n",
    "\n",
    "print(\"\\nCleaned DataFrame:\")\n",
    "print(movies_df_cleaned.info())"
   ]
  },
  {
   "cell_type": "markdown",
   "id": "f3e7d41b-2d45-49b6-af1f-6c5af4767357",
   "metadata": {},
   "source": [
    "##  Identify and handle outliers \n",
    "(using Interquartile Range (IQR) and Z-Score methods)"
   ]
  },
  {
   "cell_type": "markdown",
   "id": "0eacc6fb-e4d5-42c7-ae04-bc97e524eb72",
   "metadata": {},
   "source": [
    "Identify Outliers using IQR and Z-Score:\n",
    "- Use IQR method to identify data points outside Q1 - 1.5 * IQR and Q3 + 1.5 * IQR.\n",
    "- Use Z-Score method to identify data points with a Z-score greater than 3 or less than -3."
   ]
  },
  {
   "cell_type": "code",
   "execution_count": 56,
   "id": "9f07e0b3-670d-4549-9170-26ee5b7a71bf",
   "metadata": {},
   "outputs": [],
   "source": [
    "# calculate IQR and identify outliers\n",
    "\n",
    "def identify_outliers_iqr(df, numerical_columns):\n",
    "    outliers = {}\n",
    "    for col in numerical_columns:\n",
    "        # Calculate Q1, Q3, and IQR\n",
    "        Q1 = df[col].quantile(0.25)\n",
    "        Q3 = df[col].quantile(0.75)\n",
    "        IQR = Q3 - Q1\n",
    "        \n",
    "        # outlier bounds\n",
    "        lower_bound = Q1 - 1.5 * IQR\n",
    "        upper_bound = Q3 + 1.5 * IQR\n",
    "        \n",
    "        # identify outliers\n",
    "        outliers[col] = df[(df[col] < lower_bound) | (df[col] > upper_bound)]\n",
    "        #print(f\"Outliers in {col} using IQR method:\")\n",
    "        #print(outliers[col])\n",
    "        \n",
    "    return outliers\n",
    "\n",
    "numerical_columns = movies_df_cleaned.select_dtypes(include=['float64', 'int64']).columns\n",
    "outliers_iqr = identify_outliers_iqr(movies_df_cleaned, numerical_columns)"
   ]
  },
  {
   "cell_type": "code",
   "execution_count": 57,
   "id": "ce12fab8-c436-410f-a966-6efe67ae939c",
   "metadata": {},
   "outputs": [],
   "source": [
    "# calculate Z-Score and identify outliers\n",
    "def identify_outliers_zscore(df, numerical_columns):\n",
    "    outliers_zscore = {}\n",
    "    for col in numerical_columns:\n",
    "        # Calculate Z-scores\n",
    "        z_scores = zscore(df[col].dropna())  # Remove NaN for Z-score calculation\n",
    "        abs_z_scores = np.abs(z_scores)\n",
    "        \n",
    "        # Identify outliers where Z-score > 3 or < -3\n",
    "        outliers_zscore[col] = df[abs_z_scores > 3]\n",
    "        \n",
    "        #print(f\"Outliers in {col} using Z-Score method:\")\n",
    "        #print(outliers_zscore[col])\n",
    "    \n",
    "    return outliers_zscore\n",
    "\n",
    "outliers_zscore = identify_outliers_zscore(movies_df_cleaned, numerical_columns)"
   ]
  },
  {
   "cell_type": "code",
   "execution_count": 58,
   "id": "eac57e54-e069-4dea-b0bc-b0f42c3e9593",
   "metadata": {},
   "outputs": [
    {
     "data": {
      "image/png": "[encoded data removed]",
      "text/plain": [
       "<Figure size 500x300 with 1 Axes>"
      ]
     },
     "metadata": {},
     "output_type": "display_data"
    },
    {
     "data": {
      "image/png": "[encoded data removed]",
      "text/plain": [
       "<Figure size 500x300 with 1 Axes>"
      ]
     },
     "metadata": {},
     "output_type": "display_data"
    }
   ],
   "source": [
    "# visualize outliers using boxplot and scatterplot\n",
    "def visualize_outliers(df, numerical_columns):\n",
    "    for col in numerical_columns:\n",
    "        plt.figure(figsize=(5, 3))\n",
    "        sns.boxplot(data=df, x=col)\n",
    "        plt.title(f'Boxplot for {col}')\n",
    "        plt.show()\n",
    "\n",
    "def scatterplot_outliers(df, numerical_columns):\n",
    "    for col in numerical_columns:\n",
    "        plt.figure(figsize=(5, 3))\n",
    "        plt.scatter(df.index, df[col], alpha=0.6, label=col)\n",
    "        plt.title(f'Scatter plot for {col}')\n",
    "        plt.xlabel('Index')\n",
    "        plt.ylabel(col)\n",
    "        plt.show()\n",
    "\n",
    "visualize_outliers(movies_df_cleaned, numerical_columns)\n",
    "scatterplot_outliers(movies_df_cleaned, numerical_columns)"
   ]
  },
  {
   "cell_type": "markdown",
   "id": "7bd3223c-1a5e-4677-8d07-a431bde9c105",
   "metadata": {},
   "source": [
    "Then we have to handle all of the outliers with the 'remove' or 'transform' methods. This choise depends on our business logic. \n",
    "\n",
    "We take the logarithm of each value in a dataset, often to make the data distribution more normal (i.e., symmetric). \n",
    "\n",
    "This transformation is especially useful for data that is skewed or has outliers."
   ]
  },
  {
   "cell_type": "code",
   "execution_count": 59,
   "id": "c406e08f-a582-4d10-b8a5-3af3b635f581",
   "metadata": {},
   "outputs": [
    {
     "name": "stdout",
     "output_type": "stream",
     "text": [
      "Rows removed due to outliers: 607\n",
      "\n",
      "Cleaned DataFrame:\n",
      "<class 'pandas.core.frame.DataFrame'>\n",
      "Index: 9392 entries, 0 to 9998\n",
      "Data columns (total 7 columns):\n",
      " #   Column    Non-Null Count  Dtype  \n",
      "---  ------    --------------  -----  \n",
      " 0   MOVIES    9392 non-null   object \n",
      " 1   YEAR      9392 non-null   object \n",
      " 2   GENRE     9392 non-null   object \n",
      " 3   RATING    9392 non-null   float64\n",
      " 4   ONE-LINE  9392 non-null   object \n",
      " 5   STARS     9392 non-null   object \n",
      " 6   VOTES     9392 non-null   object \n",
      "dtypes: float64(1), object(6)\n",
      "memory usage: 587.0+ KB\n",
      "None\n"
     ]
    }
   ],
   "source": [
    "def handle_outliers(df, numerical_columns, outliers_iqr, outliers_zscore, method='remove'):\n",
    "    if method == 'remove':\n",
    "        # Remove rows that are outliers based on IQR or Z-Score\n",
    "        indices_to_remove = set()\n",
    "        for col in numerical_columns:\n",
    "            indices_to_remove.update(outliers_iqr[col].index)\n",
    "            indices_to_remove.update(outliers_zscore[col].index)\n",
    "        df_cleaned = df.drop(indices_to_remove)\n",
    "        print(f\"Rows removed due to outliers: {len(indices_to_remove)}\")      \n",
    "    \n",
    "    elif method == 'transform': \n",
    "        # Apply log transformation to handle outliers (if data is positively skewed)\n",
    "        df_cleaned = df.copy()\n",
    "        for col in numerical_columns:\n",
    "            if df[col].min() > 0:  # Apply log only if data is positive\n",
    "                df_cleaned[col] = np.log(df[col])\n",
    "                print(f\"Log-transformed column: {col}\")\n",
    "    else:\n",
    "        # Just return the original dataframe if no handling method is chosen\n",
    "        df_cleaned = df\n",
    "        print(\"No handling method selected. Returning the original dataframe.\")\n",
    "    \n",
    "    return df_cleaned\n",
    "\n",
    "movies_df_cleaned = handle_outliers(movies_df_cleaned, numerical_columns, outliers_iqr, outliers_zscore, method='remove')\n",
    "print(\"\\nCleaned DataFrame:\")\n",
    "print(movies_df_cleaned.info())"
   ]
  },
  {
   "cell_type": "markdown",
   "id": "eab4822d-5d2d-41d0-a428-bc227fae76f3",
   "metadata": {},
   "source": [
    "## Additional steps\n",
    "\n",
    "1. Standardizing Data => scale numerical data\n",
    "- When variables have different units (e.g., height in cm vs. weight in kg), standardize using z-scores or min-max scaling.\n",
    "\n",
    "2. Encoding Categorical Data => convert categorical data into numerical form\n",
    "- One-hot encoding for nominal data (e.g., gender: male/female → `[1, 0]` or `[0, 1]`).\n",
    "- Label encoding for ordinal data (e.g., low/medium/high → 0, 1, 2).\n",
    "\n",
    "3. Removing Duplicates\n",
    "- Check for duplicate rows using `.duplicated()` and remove them to avoid bias."
   ]
  },
  {
   "cell_type": "markdown",
   "id": "ce1fc710-b75d-4cdf-9508-6615090b2a9d",
   "metadata": {},
   "source": [
    "# Metrics to understand your data\n",
    "\n",
    "## Descriptive Statistics\n",
    "Use these to summarize and describe the key features of your dataset.\n",
    "\n",
    "- Mean, Median, Mode: Central tendency.\n",
    "- Variance, Standard Deviation: Spread of the data.\n",
    "- Range: Minimum to maximum.\n",
    "- IQR: Middle 50% range (less sensitive to outliers)."
   ]
  },
  {
   "cell_type": "markdown",
   "id": "82e6bf5e-9a7c-411d-ba81-d704bc9999d9",
   "metadata": {},
   "source": [
    "## Data Distribution\n",
    "\n",
    "Check the shape of your data:\n",
    "Visualize using histograms, box plots, or density plots.\n",
    "\n",
    "Metric: Skewness and Kurtosis.\n",
    "- Skewness:\n",
    "    - 0: Symmetrical.\n",
    "    - `>0`: Right-skewed.\n",
    "    - <0: Left-skewed.\n",
    "- Kurtosis:\n",
    "    - 3: Normal distribution.\n",
    "    - `>3`: Heavy tails (leptokurtic).\n",
    "    - <3: Light tails (platykurtic)."
   ]
  },
  {
   "cell_type": "code",
   "execution_count": 68,
   "id": "a7981dde-b0b6-4112-9286-56d18c9fa73b",
   "metadata": {},
   "outputs": [
    {
     "data": {
      "image/png": "[encoded data removed]",
      "text/plain": [
       "<Figure size 500x300 with 1 Axes>"
      ]
     },
     "metadata": {},
     "output_type": "display_data"
    },
    {
     "data": {
      "image/png": "[encoded data removed]",
      "text/plain": [
       "<Figure size 500x300 with 1 Axes>"
      ]
     },
     "metadata": {},
     "output_type": "display_data"
    },
    {
     "name": "stdout",
     "output_type": "stream",
     "text": [
      "\n",
      "Skewness of RATING: -0.106228531985501\n",
      "Kurtosis of RATING: -0.07460322864621105\n"
     ]
    }
   ],
   "source": [
    "# Visualizations: Histogram, Boxplot, Density Plot\n",
    "plt.figure(figsize=(5, 3))\n",
    "sns.histplot(movies_df_cleaned['RATING'], kde=True)  # Example for 'RATING' column\n",
    "plt.title('Histogram of RATING')\n",
    "plt.show()\n",
    "\n",
    "plt.figure(figsize=(5, 3))\n",
    "sns.boxplot(x=movies_df_cleaned['RATING'])\n",
    "plt.title('Boxplot of VOTES')\n",
    "plt.show()\n",
    "\n",
    "# Skewness and Kurtosis\n",
    "skewness = skew(movies_df_cleaned['RATING'])\n",
    "kurt = kurtosis(movies_df_cleaned['RATING'])\n",
    "\n",
    "print(\"\\nSkewness of RATING:\", skewness)\n",
    "print(\"Kurtosis of RATING:\", kurt)"
   ]
  },
  {
   "cell_type": "code",
   "execution_count": null,
   "id": "a78b8b32-103a-4fd8-b021-10a6607675ea",
   "metadata": {},
   "outputs": [],
   "source": []
  },
  {
   "cell_type": "markdown",
   "id": "4d481076-0086-49c6-aa2c-d5f17ef9defb",
   "metadata": {},
   "source": [
    "## Correlation\n",
    "\n",
    "Pairwise Correlation (for continuous variables):\n",
    "- Metric: Pearson’s (r), Spearman’s (ρ), or Kendall’s (τ).\n",
    "\n",
    "Use `.corr()` in pandas for a correlation matrix.\n",
    "\n",
    "Correlation helps identify multicollinearity (highly correlated independent variables).\n",
    "\n",
    "## Categorical Data Analysis\n",
    "\n",
    "Count unique categories with `.value_counts()`.\n",
    "\n",
    "Visualize distributions using bar plots or pie charts."
   ]
  },
  {
   "cell_type": "code",
   "execution_count": 73,
   "id": "96ca02c4-5cb2-452e-b42b-ad33bfd078f8",
   "metadata": {},
   "outputs": [
    {
     "name": "stdout",
     "output_type": "stream",
     "text": [
      "\n",
      "Pearson's Correlation Matrix:\n",
      "        RATING\n",
      "RATING     1.0\n",
      "\n",
      "Spearman's Correlation Matrix:\n",
      "        RATING\n",
      "RATING     1.0\n",
      "\n",
      "Kendall's Correlation Matrix:\n",
      "        RATING\n",
      "RATING     1.0\n"
     ]
    },
    {
     "data": {
      "image/png": "[encoded data removed]",
      "text/plain": [
       "<Figure size 1000x600 with 2 Axes>"
      ]
     },
     "metadata": {},
     "output_type": "display_data"
    }
   ],
   "source": [
    "# Select only numeric columns for correlation\n",
    "numeric_columns = movies_df_cleaned.select_dtypes(include=[np.number]).columns\n",
    "\n",
    "# Pearson's correlation matrix (for continuous numerical columns)\n",
    "correlation_pearson = movies_df_cleaned[numeric_columns].corr(method='pearson')\n",
    "print(\"\\nPearson's Correlation Matrix:\")\n",
    "print(correlation_pearson)\n",
    "\n",
    "# Spearman's correlation matrix (for non-parametric or ordinal data)\n",
    "correlation_spearman = movies_df_cleaned[numeric_columns].corr(method='spearman')\n",
    "print(\"\\nSpearman's Correlation Matrix:\")\n",
    "print(correlation_spearman)\n",
    "\n",
    "# Kendall's correlation matrix (another non-parametric correlation method)\n",
    "correlation_kendall = movies_df_cleaned[numeric_columns].corr(method='kendall')\n",
    "print(\"\\nKendall's Correlation Matrix:\")\n",
    "print(correlation_kendall)\n",
    "\n",
    "# Visualizing the Pearson's Correlation Heatmap for the cleaned dataset\n",
    "plt.figure(figsize=(10, 6))\n",
    "sns.heatmap(correlation_pearson, annot=True, cmap='coolwarm', fmt=\".2f\", linewidths=0.5)\n",
    "plt.title(\"Pearson's Correlation Heatmap for Cleaned Data\")\n",
    "plt.show() # => looks stupid, because we have only one numeric column"
   ]
  },
  {
   "cell_type": "markdown",
   "id": "8d288f42-897d-4ab2-9685-97f7bc33dcae",
   "metadata": {},
   "source": [
    "## Chosing the right statistical test\n",
    "\n",
    "**Which type of data do we have?**\n",
    "\n",
    "a) Numerical Data:\n",
    "- Continuous: e.g., height, weight.\n",
    "- Discrete: e.g., number of children.\n",
    "\n",
    "b) Categorical Data:\n",
    "- Nominal: No order (e.g., colors, gender).\n",
    "- Ordinal: Has order (e.g., low, medium, high).\n",
    "\n",
    "\n",
    "\n",
    "**What is the distribution of our data?**\n",
    "\n",
    "a) Check if data follows a normal distribution.\n",
    "- Shapiro-Wilk Test.\n",
    "- Kolmogorov-Smirnov Test.\n",
    "- Visualization: Histogram, Q-Q Plot.\n",
    "\n",
    "If data is not normal => Use non-parametric tests (e.g., Mann-Whitney U, Kruskal-Wallis).\n",
    "\n",
    "b) Check if variances across groups are equal.\n",
    "- Levene’s Test.\n",
    "\n",
    "If variances are not equal => Use Welch’s t-Test or non-parametric tests.\n",
    "\n",
    "\n",
    "\n",
    "**How many groups do we have?**\n",
    "\n",
    "1) Two Groups\n",
    "- Parametric => t-Test (independent or paired).\n",
    "- Non-Parametric => Mann-Whitney U Test/Wilcoxon Signed-Rank Test\n",
    "\n",
    "2) Three or More Groups:\n",
    "- Parametric => ANOVA (One-Way or Two-Way).\n",
    "- Non-Parametric => Kruskal-Wallis Test.\n",
    "\n",
    "3) Relationships Between Variables:\n",
    "- Continuous => Correlation (Pearson, Spearman)/Linear Regression.\n",
    "- Categorical => Chi-Square Test/Logistic Regression.\n",
    "\n",
    "\n",
    "**PS: If the P-value is < than 0.05, we would REJECT the null hypothesis!!!**"
   ]
  },
  {
   "cell_type": "code",
   "execution_count": null,
   "id": "30740586-3865-4f7d-8ea3-557411bc366b",
   "metadata": {},
   "outputs": [],
   "source": []
  },
  {
   "cell_type": "code",
   "execution_count": null,
   "id": "1b3ab041-7fe6-4134-ab22-3a4e7fbf116c",
   "metadata": {},
   "outputs": [],
   "source": []
  },
  {
   "cell_type": "code",
   "execution_count": null,
   "id": "4c616084-c6d2-430e-902c-7f85976ec265",
   "metadata": {},
   "outputs": [],
   "source": []
  }
 ],
 "metadata": {
  "kernelspec": {
   "display_name": "Python 3 (ipykernel)",
   "language": "python",
   "name": "python3"
  },
  "language_info": {
   "codemirror_mode": {
    "name": "ipython",
    "version": 3
   },
   "file_extension": ".py",
   "mimetype": "text/x-python",
   "name": "python",
   "nbconvert_exporter": "python",
   "pygments_lexer": "ipython3",
   "version": "3.11.7"
  }
 },
 "nbformat": 4,
 "nbformat_minor": 5
}
